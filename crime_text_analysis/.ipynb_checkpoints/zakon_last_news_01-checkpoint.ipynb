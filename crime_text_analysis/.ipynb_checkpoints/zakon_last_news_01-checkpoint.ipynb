{
 "cells": [
  {
   "cell_type": "code",
   "execution_count": 1,
   "metadata": {},
   "outputs": [],
   "source": [
    "import requests\n",
    "from bs4 import BeautifulSoup \n",
    "import re\n",
    "import pandas as pd"
   ]
  },
  {
   "cell_type": "code",
   "execution_count": 2,
   "metadata": {},
   "outputs": [],
   "source": [
    "base_url = \"https://kaz.zakon.kz/news\""
   ]
  },
  {
   "cell_type": "code",
   "execution_count": 3,
   "metadata": {},
   "outputs": [],
   "source": [
    "def get_element(elem, tag_name):\n",
    "    result = elem.select(tag_name)[0].get_text()\n",
    "    return result\n",
    "\n",
    "def get_href(elem):\n",
    "    result = elem.select('a')[0].get_attribute_list(\"href\")[0]\n",
    "    return result\n",
    "    "
   ]
  },
  {
   "cell_type": "code",
   "execution_count": 5,
   "metadata": {},
   "outputs": [],
   "source": [
    "# neshe kunnin janalygy kerek ekenin osy jerde korsetesin\n",
    "days_count = 10"
   ]
  },
  {
   "cell_type": "code",
   "execution_count": 6,
   "metadata": {},
   "outputs": [],
   "source": [
    "urls = []\n",
    "for i in range(1, days_count + 1):\n",
    "    urls.append(f'{base_url}/page/{i}/')"
   ]
  },
  {
   "cell_type": "code",
   "execution_count": 7,
   "metadata": {},
   "outputs": [
    {
     "data": {
      "text/plain": [
       "['https://kaz.zakon.kz/news/page/1/',\n",
       " 'https://kaz.zakon.kz/news/page/2/',\n",
       " 'https://kaz.zakon.kz/news/page/3/',\n",
       " 'https://kaz.zakon.kz/news/page/4/',\n",
       " 'https://kaz.zakon.kz/news/page/5/',\n",
       " 'https://kaz.zakon.kz/news/page/6/',\n",
       " 'https://kaz.zakon.kz/news/page/7/',\n",
       " 'https://kaz.zakon.kz/news/page/8/',\n",
       " 'https://kaz.zakon.kz/news/page/9/',\n",
       " 'https://kaz.zakon.kz/news/page/10/']"
      ]
     },
     "execution_count": 7,
     "metadata": {},
     "output_type": "execute_result"
    }
   ],
   "source": [
    "urls"
   ]
  },
  {
   "cell_type": "code",
   "execution_count": 8,
   "metadata": {},
   "outputs": [],
   "source": [
    "news = []\n",
    "\n",
    "for u in urls:\n",
    "    _html = requests.get(u).text\n",
    "    soup = BeautifulSoup(_html, 'html.parser')\n",
    "    soup.prettify;\n",
    "    news_block = soup.select(\"div .cat_news_item\");\n",
    "    news.append(news_block)"
   ]
  },
  {
   "cell_type": "code",
   "execution_count": 33,
   "metadata": {},
   "outputs": [
    {
     "data": {
      "text/plain": [
       "[[<div class=\"cat_news_item\">\n",
       "  <span class=\"tahoma font12 date n2\">2019-08-17</span>\n",
       "  </div>, <div class=\"cat_news_item\">\n",
       "  <span class=\"tahoma font12 date n3\">18:16</span>\n",
       "  <a class=\"tahoma font12\" href=\"/4981971-as-ar-mamin-arys-alasyn-alpyna-kelt-ru.html\" target=\"_blank\">Асқар Мамин Арыс қаласын қалпына келтіру жұмыстарын және Түркістандағы құрылыс нысандарын тексерді</a>\n",
       "  </div>, <div class=\"cat_news_item\">\n",
       "  <span class=\"tahoma font12 date n3\">15:25</span>\n",
       "  <a class=\"tahoma font12\" href=\"/4981963-t-rk-standa-shy-ysty-lg-deg-avtobeket.html\" target=\"_blank\">Түркістанда шығыстық үлгідегі автобекет ашылды</a>\n",
       "  </div>], [<div class=\"cat_news_item\">\n",
       "  <span class=\"tahoma font12 date n2\">2019-08-16</span>\n",
       "  </div>, <div class=\"cat_news_item\">\n",
       "  <span class=\"tahoma font12 date n3\">20:21</span>\n",
       "  <a class=\"tahoma font12\" href=\"/4981913-b-g-n-arysty-tar-100-my-te-ge-zh-rdema.html\" target=\"_blank\">Бүгін арыстықтар 100 мың теңге жәрдемақыны алды</a>\n",
       "  <img alt=\"video_icon\" src=\"https://static.zakon.kz/img/photo_icon.png\"/>\n",
       "  </div>, <div class=\"cat_news_item\">\n",
       "  <span class=\"tahoma font12 date n3\">17:54</span>\n",
       "  <a class=\"tahoma font12\" href=\"/4981898-a-sh-ty-sanktsiyalary-reseyd-m-nayyna.html\" target=\"_blank\">АҚШ-тың санкциялары Ресейдің мұнайына деген сұранысты байқаусызда өсіріп жіберді</a>\n",
       "  </div>, <div class=\"cat_news_item\">\n",
       "  <span class=\"tahoma font12 date n3\">17:37</span>\n",
       "  <a class=\"tahoma font12\" href=\"/4981894-elbasy-alda-y-saylau-a-partiyalardy.html\" target=\"_blank\">Елбасы алдағы сайлауға партиялардың даярлық жұмысын жеделдетуді тапсырды</a>\n",
       "  </div>, <div class=\"cat_news_item\">\n",
       "  <span class=\"tahoma font12 date n3\">16:50</span>\n",
       "  <a class=\"tahoma font12\" href=\"/4981884-b-r-shyndy-ty-aytayyn-dimash-adyr.html\" target=\"_blank\">\"Бір шындықты айтайын...\". Димаш Қадыр атасының ескі видеосын парақшасына жүктеді</a>\n",
       "  <img alt=\"video_icon\" src=\"https://static.zakon.kz/img/video_icon.png\"/>\n",
       "  </div>, <div class=\"cat_news_item\">\n",
       "  <span class=\"tahoma font12 date n3\">16:25</span>\n",
       "  <a class=\"tahoma font12\" href=\"/4981875-2-3-sa-at-bos-a-t-rady-lineykany-kereg.html\" target=\"_blank\">2-3 сағат босқа тұрады. Линейканың керегі не?</a>\n",
       "  </div>, <div class=\"cat_news_item\">\n",
       "  <span class=\"tahoma font12 date n3\">16:03</span>\n",
       "  <a class=\"tahoma font12\" href=\"/4981872-dala-rt-kez-nde-mert-bol-an-sh-azamat-a.html\" target=\"_blank\">Дала өрті кезінде мерт болған үш азаматқа медаль берілді</a>\n",
       "  </div>, <div class=\"cat_news_item\">\n",
       "  <span class=\"tahoma font12 date n3\">15:23</span>\n",
       "  <a class=\"tahoma font12\" href=\"/4981863-b-l-m-ministr-ayma-ambetov-l-ppen-byly.html\" target=\"_blank\">Білім министрі Аймағамбетов \"Әліппенің\" былығын айтты</a>\n",
       "  </div>, <div class=\"cat_news_item\">\n",
       "  <span class=\"tahoma font12 date n3\">15:21</span>\n",
       "  <a class=\"tahoma font12\" href=\"/4981862-m-al-mderd-bes-k-nd-k-zh-mys-a-k-shu-ne.html\" target=\"_blank\">Мұғалімдердің бес күндік жұмысқа көшуіне кедергі жоқ – Аймағамбетов</a>\n",
       "  </div>, <div class=\"cat_news_item\">\n",
       "  <span class=\"tahoma font12 date n3\">15:05</span>\n",
       "  <a class=\"tahoma font12\" href=\"/4981858-almatyda-mas-k-ydeg-o-ushy-yz-metroda.html\" target=\"_blank\">Алматыда мас оқушы қыз метрода құлады</a>\n",
       "  </div>, <div class=\"cat_news_item\">\n",
       "  <span class=\"tahoma font12 date n3\">15:03</span>\n",
       "  <a class=\"tahoma font12\" href=\"/4981857-almatyda-an-shy-ar-andy-zha-sy-k-ret-n.html\" target=\"_blank\">Алматыда қан шығарғанды жақсы көретін азамат өлі табылды</a>\n",
       "  </div>, <div class=\"cat_news_item\">\n",
       "  <span class=\"tahoma font12 date n3\">14:52</span>\n",
       "  <a class=\"tahoma font12\" href=\"/4981853-s-o-da-k-mett-k-emes-yymdar-m-seleler-k.html\" target=\"_blank\">СҚО-да үкіметтік емес ұйымдар мәселелері көтерілді</a>\n",
       "  </div>, <div class=\"cat_news_item\">\n",
       "  <span class=\"tahoma font12 date n3\">14:36</span>\n",
       "  <a class=\"tahoma font12\" href=\"/4981847-tamyz-konferentsiyasynda-to-aev-ne-ded.html\" target=\"_blank\">Тамыз конференциясында Тоқаев не деді - толық мәтіні</a>\n",
       "  <span class=\"comm_num\">2</span>\n",
       "  </div>, <div class=\"cat_news_item\">\n",
       "  <span class=\"tahoma font12 date n3\">12:56</span>\n",
       "  <a class=\"tahoma font12\" href=\"/4981815-n-rotandy-tar-zhel-de-bauyrzhan-baybekt.html\" target=\"_blank\">Нұротандықтар! Желіде Бауыржан Байбектің хаты пайда болды</a>\n",
       "  </div>, <div class=\"cat_news_item\">\n",
       "  <span class=\"tahoma font12 date n3\">12:33</span>\n",
       "  <a class=\"tahoma font12\" href=\"/4981810-prezident-12-zhyldy-b-l-m-beru-zh-yes.html\" target=\"_blank\">Президент 12 жылдық білім беру жүйесіне қалай көшу керектігін айтты</a>\n",
       "  </div>, <div class=\"cat_news_item\">\n",
       "  <span class=\"tahoma font12 date n3\">12:23</span>\n",
       "  <a class=\"tahoma font12\" href=\"/4981809-to-aev-m-al-mderd-zhala-ysyn-ek-esege-s.html\" target=\"_blank\">Тоқаев мұғалімдердің жалақысын екі есеге өсіруді бұйырды</a>\n",
       "  <span class=\"comm_num\">7</span>\n",
       "  </div>, <div class=\"cat_news_item\">\n",
       "  <span class=\"tahoma font12 date n3\">11:44</span>\n",
       "  <a class=\"tahoma font12\" href=\"/4981798-atauly-leumett-k-zh-rdema-yny-za-syz-al.html\" target=\"_blank\">Атаулы әлеуметтік жәрдемақыны заңсыз алғандардан ақшаны қайтару талап етілді</a>\n",
       "  </div>, <div class=\"cat_news_item\">\n",
       "  <span class=\"tahoma font12 date n3\">11:23</span>\n",
       "  <a class=\"tahoma font12\" href=\"/4981794-almaty-oblysynda-mektepte-o-ymaytyn-8.html\" target=\"_blank\">Алматы облысында мектепте оқымайтын 8 жасар бала анықталды</a>\n",
       "  </div>, <div class=\"cat_news_item\">\n",
       "  <span class=\"tahoma font12 date n3\">10:59</span>\n",
       "  <a class=\"tahoma font12\" href=\"/4981788-putind-or-a-haly-ty-tepk-le-simulyator.html\" target=\"_blank\">Путинді қорға, халықты тепкіле – симулятор ОМОН деген ойын шықты</a>\n",
       "  <img alt=\"video_icon\" src=\"https://static.zakon.kz/img/video_icon.png\"/>\n",
       "  </div>, <div class=\"cat_news_item\">\n",
       "  <span class=\"tahoma font12 date n3\">10:59</span>\n",
       "  <a class=\"tahoma font12\" href=\"/4981787-n-rt-leu-iman-ali-ly-televideniege.html\" target=\"_blank\">Нұртілеу Иманғалиұлы телевидениеге оралды!</a>\n",
       "  </div>, <div class=\"cat_news_item\">\n",
       "  <span class=\"tahoma font12 date n3\">10:45</span>\n",
       "  <a class=\"tahoma font12\" href=\"/4981783-elsh-ler-to-aevty-ytay-a-memlekett-k.html\" target=\"_blank\">Елшілер Тоқаевтың Қытайға мемлекеттік сапары дайындығын талқылады</a>\n",
       "  </div>, <div class=\"cat_news_item\">\n",
       "  <span class=\"tahoma font12 date n3\">09:53</span>\n",
       "  <a class=\"tahoma font12\" href=\"/4981775-olar-vich-t-te-z-ken-sh-nde-zh-tyrma-an.html\" target=\"_blank\">Олар ВИЧ-ті Теңіз кенішінде жұқтырмаған -  облыстық денсаулық сақтау басқармасының басшысы</a>\n",
       "  </div>, <div class=\"cat_news_item\">\n",
       "  <span class=\"tahoma font12 date n3\">09:50</span>\n",
       "  <a class=\"tahoma font12\" href=\"/4981774-tragikomediya-o-uly-ortaly-y-vs-ministr.html\" target=\"_blank\">Трагикомедия. \"Оқулық\" орталығы vs министр</a>\n",
       "  </div>, <div class=\"cat_news_item\">\n",
       "  <span class=\"tahoma font12 date n3\">09:45</span>\n",
       "  <a class=\"tahoma font12\" href=\"/4981773-sheteld-kterd-m-nay-kompaniyasyna-za.html\" target=\"_blank\">Шетелдіктерді мұнай компаниясына заңсыз \"тықпалаған\" осы әкім екен!</a>\n",
       "  </div>, <div class=\"cat_news_item\">\n",
       "  <span class=\"tahoma font12 date n3\">09:36</span>\n",
       "  <a class=\"tahoma font12\" href=\"/4981768-b-rsha-dauyl-atty-zha-byr-zh-mada-y-aua.html\" target=\"_blank\">Бұршақ, дауыл, қатты жаңбыр – жұмадағы ауа-райы</a>\n",
       "  </div>, <div class=\"cat_news_item\">\n",
       "  <span class=\"tahoma font12 date n3\">09:23</span>\n",
       "  <a class=\"tahoma font12\" href=\"/4981760-respublikaly-tamyz-ke-es-nde-zhekege.html\" target=\"_blank\">Республикалық тамыз кеңесінде жекеге тиесілі мектептер жайы да талқыланады</a>\n",
       "  </div>]]"
      ]
     },
     "execution_count": 33,
     "metadata": {},
     "output_type": "execute_result"
    }
   ],
   "source": [
    "news"
   ]
  },
  {
   "cell_type": "code",
   "execution_count": 8,
   "metadata": {},
   "outputs": [],
   "source": [
    "cleaned_news = {\n",
    "    'title': [],\n",
    "    'date': [],\n",
    "    'url': []\n",
    "}\n",
    "for n in news:\n",
    "    for i in range(1, len(n)):\n",
    "        cleaned_news['title'].append(get_element(n[i], 'a'))\n",
    "        cleaned_news['date'].append(f\"{get_element(n[i], 'span')} {get_element(n[0], 'span')}\")\n",
    "        cleaned_news['url'].append(f'{base_url}{get_href(n[i])}') "
   ]
  },
  {
   "cell_type": "code",
   "execution_count": 9,
   "metadata": {},
   "outputs": [],
   "source": [
    "cleaned_news;"
   ]
  },
  {
   "cell_type": "code",
   "execution_count": 10,
   "metadata": {},
   "outputs": [],
   "source": [
    "df = pd.DataFrame.from_dict(cleaned_news)"
   ]
  },
  {
   "cell_type": "code",
   "execution_count": 11,
   "metadata": {},
   "outputs": [
    {
     "data": {
      "text/html": [
       "<div>\n",
       "<style scoped>\n",
       "    .dataframe tbody tr th:only-of-type {\n",
       "        vertical-align: middle;\n",
       "    }\n",
       "\n",
       "    .dataframe tbody tr th {\n",
       "        vertical-align: top;\n",
       "    }\n",
       "\n",
       "    .dataframe thead th {\n",
       "        text-align: right;\n",
       "    }\n",
       "</style>\n",
       "<table border=\"1\" class=\"dataframe\">\n",
       "  <thead>\n",
       "    <tr style=\"text-align: right;\">\n",
       "      <th></th>\n",
       "      <th>title</th>\n",
       "      <th>date</th>\n",
       "      <th>url</th>\n",
       "    </tr>\n",
       "  </thead>\n",
       "  <tbody>\n",
       "    <tr>\n",
       "      <th>0</th>\n",
       "      <td>Nur Otan-да екі аудандағы АӘК-тің таратылуында...</td>\n",
       "      <td>22:27 2019-08-17</td>\n",
       "      <td>https://kaz.zakon.kz/news/4981980-nur-otan-da-...</td>\n",
       "    </tr>\n",
       "    <tr>\n",
       "      <th>1</th>\n",
       "      <td>Асқар Мамин Арыс қаласын қалпына келтіру жұмыс...</td>\n",
       "      <td>18:16 2019-08-17</td>\n",
       "      <td>https://kaz.zakon.kz/news/4981971-as-ar-mamin-...</td>\n",
       "    </tr>\n",
       "    <tr>\n",
       "      <th>2</th>\n",
       "      <td>Түркістанда шығыстық үлгідегі автобекет ашылды</td>\n",
       "      <td>15:25 2019-08-17</td>\n",
       "      <td>https://kaz.zakon.kz/news/4981963-t-rk-standa-...</td>\n",
       "    </tr>\n",
       "    <tr>\n",
       "      <th>3</th>\n",
       "      <td>Бүгін арыстықтар 100 мың теңге жәрдемақыны алды</td>\n",
       "      <td>20:21 2019-08-16</td>\n",
       "      <td>https://kaz.zakon.kz/news/4981913-b-g-n-arysty...</td>\n",
       "    </tr>\n",
       "    <tr>\n",
       "      <th>4</th>\n",
       "      <td>АҚШ-тың санкциялары Ресейдің мұнайына деген сұ...</td>\n",
       "      <td>17:54 2019-08-16</td>\n",
       "      <td>https://kaz.zakon.kz/news/4981898-a-sh-ty-sank...</td>\n",
       "    </tr>\n",
       "  </tbody>\n",
       "</table>\n",
       "</div>"
      ],
      "text/plain": [
       "                                               title              date  \\\n",
       "0  Nur Otan-да екі аудандағы АӘК-тің таратылуында...  22:27 2019-08-17   \n",
       "1  Асқар Мамин Арыс қаласын қалпына келтіру жұмыс...  18:16 2019-08-17   \n",
       "2     Түркістанда шығыстық үлгідегі автобекет ашылды  15:25 2019-08-17   \n",
       "3    Бүгін арыстықтар 100 мың теңге жәрдемақыны алды  20:21 2019-08-16   \n",
       "4  АҚШ-тың санкциялары Ресейдің мұнайына деген сұ...  17:54 2019-08-16   \n",
       "\n",
       "                                                 url  \n",
       "0  https://kaz.zakon.kz/news/4981980-nur-otan-da-...  \n",
       "1  https://kaz.zakon.kz/news/4981971-as-ar-mamin-...  \n",
       "2  https://kaz.zakon.kz/news/4981963-t-rk-standa-...  \n",
       "3  https://kaz.zakon.kz/news/4981913-b-g-n-arysty...  \n",
       "4  https://kaz.zakon.kz/news/4981898-a-sh-ty-sank...  "
      ]
     },
     "execution_count": 11,
     "metadata": {},
     "output_type": "execute_result"
    }
   ],
   "source": [
    "df.head()"
   ]
  },
  {
   "cell_type": "code",
   "execution_count": 12,
   "metadata": {},
   "outputs": [
    {
     "data": {
      "text/plain": [
       "(46, 3)"
      ]
     },
     "execution_count": 12,
     "metadata": {},
     "output_type": "execute_result"
    }
   ],
   "source": [
    "df.shape"
   ]
  },
  {
   "cell_type": "code",
   "execution_count": 13,
   "metadata": {},
   "outputs": [],
   "source": [
    "df.to_csv('last_news_final.csv', encoding=\"utf8\", index=False)"
   ]
  },
  {
   "cell_type": "code",
   "execution_count": null,
   "metadata": {},
   "outputs": [],
   "source": []
  }
 ],
 "metadata": {
  "kernelspec": {
   "display_name": "Python 3",
   "language": "python",
   "name": "python3"
  },
  "language_info": {
   "codemirror_mode": {
    "name": "ipython",
    "version": 3
   },
   "file_extension": ".py",
   "mimetype": "text/x-python",
   "name": "python",
   "nbconvert_exporter": "python",
   "pygments_lexer": "ipython3",
   "version": "3.7.3"
  }
 },
 "nbformat": 4,
 "nbformat_minor": 2
}
