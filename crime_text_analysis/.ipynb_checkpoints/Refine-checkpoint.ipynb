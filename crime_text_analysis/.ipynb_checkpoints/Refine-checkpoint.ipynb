{
 "cells": [
  {
   "cell_type": "markdown",
   "metadata": {},
   "source": [
    "# Refine the Data"
   ]
  },
  {
   "cell_type": "code",
   "execution_count": 1,
   "metadata": {},
   "outputs": [],
   "source": [
    "import pandas as pd"
   ]
  },
  {
   "cell_type": "code",
   "execution_count": 2,
   "metadata": {},
   "outputs": [],
   "source": [
    "df = pd.read_csv('last_news_final.csv')"
   ]
  },
  {
   "cell_type": "code",
   "execution_count": 3,
   "metadata": {},
   "outputs": [
    {
     "data": {
      "text/html": [
       "<div>\n",
       "<style scoped>\n",
       "    .dataframe tbody tr th:only-of-type {\n",
       "        vertical-align: middle;\n",
       "    }\n",
       "\n",
       "    .dataframe tbody tr th {\n",
       "        vertical-align: top;\n",
       "    }\n",
       "\n",
       "    .dataframe thead th {\n",
       "        text-align: right;\n",
       "    }\n",
       "</style>\n",
       "<table border=\"1\" class=\"dataframe\">\n",
       "  <thead>\n",
       "    <tr style=\"text-align: right;\">\n",
       "      <th></th>\n",
       "      <th>title</th>\n",
       "      <th>date</th>\n",
       "      <th>url</th>\n",
       "    </tr>\n",
       "  </thead>\n",
       "  <tbody>\n",
       "    <tr>\n",
       "      <th>0</th>\n",
       "      <td>Nur Otan-да екі аудандағы АӘК-тің таратылуында...</td>\n",
       "      <td>22:27 2019-08-17</td>\n",
       "      <td>https://kaz.zakon.kz/news/4981980-nur-otan-da-...</td>\n",
       "    </tr>\n",
       "    <tr>\n",
       "      <th>1</th>\n",
       "      <td>Асқар Мамин Арыс қаласын қалпына келтіру жұмыс...</td>\n",
       "      <td>18:16 2019-08-17</td>\n",
       "      <td>https://kaz.zakon.kz/news/4981971-as-ar-mamin-...</td>\n",
       "    </tr>\n",
       "    <tr>\n",
       "      <th>2</th>\n",
       "      <td>Түркістанда шығыстық үлгідегі автобекет ашылды</td>\n",
       "      <td>15:25 2019-08-17</td>\n",
       "      <td>https://kaz.zakon.kz/news/4981963-t-rk-standa-...</td>\n",
       "    </tr>\n",
       "    <tr>\n",
       "      <th>3</th>\n",
       "      <td>Бүгін арыстықтар 100 мың теңге жәрдемақыны алды</td>\n",
       "      <td>20:21 2019-08-16</td>\n",
       "      <td>https://kaz.zakon.kz/news/4981913-b-g-n-arysty...</td>\n",
       "    </tr>\n",
       "    <tr>\n",
       "      <th>4</th>\n",
       "      <td>АҚШ-тың санкциялары Ресейдің мұнайына деген сұ...</td>\n",
       "      <td>17:54 2019-08-16</td>\n",
       "      <td>https://kaz.zakon.kz/news/4981898-a-sh-ty-sank...</td>\n",
       "    </tr>\n",
       "  </tbody>\n",
       "</table>\n",
       "</div>"
      ],
      "text/plain": [
       "                                               title              date  \\\n",
       "0  Nur Otan-да екі аудандағы АӘК-тің таратылуында...  22:27 2019-08-17   \n",
       "1  Асқар Мамин Арыс қаласын қалпына келтіру жұмыс...  18:16 2019-08-17   \n",
       "2     Түркістанда шығыстық үлгідегі автобекет ашылды  15:25 2019-08-17   \n",
       "3    Бүгін арыстықтар 100 мың теңге жәрдемақыны алды  20:21 2019-08-16   \n",
       "4  АҚШ-тың санкциялары Ресейдің мұнайына деген сұ...  17:54 2019-08-16   \n",
       "\n",
       "                                                 url  \n",
       "0  https://kaz.zakon.kz/news/4981980-nur-otan-da-...  \n",
       "1  https://kaz.zakon.kz/news/4981971-as-ar-mamin-...  \n",
       "2  https://kaz.zakon.kz/news/4981963-t-rk-standa-...  \n",
       "3  https://kaz.zakon.kz/news/4981913-b-g-n-arysty...  \n",
       "4  https://kaz.zakon.kz/news/4981898-a-sh-ty-sank...  "
      ]
     },
     "execution_count": 3,
     "metadata": {},
     "output_type": "execute_result"
    }
   ],
   "source": [
    "df.head()"
   ]
  },
  {
   "cell_type": "markdown",
   "metadata": {},
   "source": [
    "To get the date of the title - we will need the following algorithm\n",
    "- If the string contains **hours** we can consider it **1 day**\n",
    "- And if the string has **day**, we pick the number preceding the **day**\n",
    "\n",
    "To apply this algorithm, we need to be able to pick these words and digits from a string. For that we will use Regular Expression."
   ]
  },
  {
   "cell_type": "markdown",
   "metadata": {},
   "source": [
    "## Introduction to Regular Expression (Regex)\n",
    "\n",
    "Regular expression is a way of selecting text using symbols in a string.\n",
    "\n",
    "Refer to the following links for an interactive playground\n",
    "- [http://regexr.com](http://regexr.com/)\n",
    "- [http://regex101.com/](http://regex101.com/)"
   ]
  },
  {
   "cell_type": "code",
   "execution_count": 4,
   "metadata": {},
   "outputs": [],
   "source": [
    "import re"
   ]
  },
  {
   "cell_type": "code",
   "execution_count": 5,
   "metadata": {},
   "outputs": [],
   "source": [
    "test_string = \"Hello world, welcome to 2016.\""
   ]
  },
  {
   "cell_type": "code",
   "execution_count": 6,
   "metadata": {},
   "outputs": [],
   "source": [
    "# We can pass the whole string and re.search will give the first occurence of the value\n",
    "# re.search - This function searches for first occurrence of RE pattern within string.\n",
    "a = re.search('Hello world, welcome to 2016',test_string)"
   ]
  },
  {
   "cell_type": "code",
   "execution_count": 7,
   "metadata": {},
   "outputs": [
    {
     "data": {
      "text/plain": [
       "<re.Match object; span=(0, 28), match='Hello world, welcome to 2016'>"
      ]
     },
     "execution_count": 7,
     "metadata": {},
     "output_type": "execute_result"
    }
   ],
   "source": [
    "a"
   ]
  },
  {
   "cell_type": "code",
   "execution_count": 8,
   "metadata": {},
   "outputs": [
    {
     "data": {
      "text/plain": [
       "'Hello world, welcome to 2016'"
      ]
     },
     "execution_count": 8,
     "metadata": {},
     "output_type": "execute_result"
    }
   ],
   "source": [
    "a.group()"
   ]
  },
  {
   "cell_type": "code",
   "execution_count": 40,
   "metadata": {},
   "outputs": [
    {
     "data": {
      "text/plain": [
       "'H'"
      ]
     },
     "execution_count": 40,
     "metadata": {},
     "output_type": "execute_result"
    }
   ],
   "source": [
    "# Match the first letters in the string\n",
    "a = re.search('.',test_string)\n",
    "a.group()"
   ]
  },
  {
   "cell_type": "code",
   "execution_count": 9,
   "metadata": {},
   "outputs": [
    {
     "data": {
      "text/plain": [
       "'Hello world, welcome to 2016.'"
      ]
     },
     "execution_count": 9,
     "metadata": {},
     "output_type": "execute_result"
    }
   ],
   "source": [
    "# Match all the letters in the string\n",
    "a = re.search('.*',test_string)\n",
    "a.group()"
   ]
  },
  {
   "cell_type": "code",
   "execution_count": 10,
   "metadata": {},
   "outputs": [
    {
     "name": "stdout",
     "output_type": "stream",
     "text": [
      "<re.Match object; span=(0, 5), match='Hello'>\n"
     ]
    }
   ],
   "source": [
    "a = re.search('Hello',test_string)\n",
    "print(a)"
   ]
  },
  {
   "cell_type": "markdown",
   "metadata": {},
   "source": [
    "** Some basic symbols**\n",
    "\n",
    "**`?`**   \n",
    "\n",
    "The question mark indicates zero or one occurrences of the preceding element. For example, colou?r matches both \"color\" and \"colour\".\n",
    "\n",
    "**`\\*`**\n",
    "\n",
    "The asterisk indicates zero or more occurrences of the preceding element. For example, ab*c matches \"ac\", \"abc\", \"abbc\", \"abbbc\", and so on.\n",
    "\n",
    "**`\\+`**\t\n",
    "The plus sign indicates one or more occurrences of the preceding element. For example, ab+c matches \"abc\", \"abbc\", \"abbbc\", and so on, but not \"ac\".\n"
   ]
  },
  {
   "cell_type": "code",
   "execution_count": 43,
   "metadata": {},
   "outputs": [
    {
     "name": "stdout",
     "output_type": "stream",
     "text": [
      "<_sre.SRE_Match object; span=(0, 2), match='He'>\n"
     ]
    }
   ],
   "source": [
    "a = re.search('\\w.',test_string)\n",
    "print(a)"
   ]
  },
  {
   "cell_type": "code",
   "execution_count": 44,
   "metadata": {},
   "outputs": [
    {
     "name": "stdout",
     "output_type": "stream",
     "text": [
      "<_sre.SRE_Match object; span=(0, 5), match='Hello'>\n"
     ]
    }
   ],
   "source": [
    "a = re.search('\\w*',test_string)\n",
    "print(a)"
   ]
  },
  {
   "cell_type": "markdown",
   "metadata": {},
   "source": [
    "### Exercises"
   ]
  },
  {
   "cell_type": "code",
   "execution_count": 45,
   "metadata": {
    "collapsed": true
   },
   "outputs": [],
   "source": [
    "string = '''In 2016, we are learning Text Analytics in Data Science 101\n",
    "            by scraping http://datatau.com'''"
   ]
  },
  {
   "cell_type": "code",
   "execution_count": 46,
   "metadata": {},
   "outputs": [],
   "source": [
    "string = \"In 2016, we are learning Text Analytics in Data Science 101 by scraping http://datatau.com\""
   ]
  },
  {
   "cell_type": "markdown",
   "metadata": {},
   "source": [
    "Write a regex to pick the numbers 2016 from string above."
   ]
  },
  {
   "cell_type": "code",
   "execution_count": null,
   "metadata": {
    "collapsed": true
   },
   "outputs": [],
   "source": []
  },
  {
   "cell_type": "markdown",
   "metadata": {},
   "source": [
    "Write a regex to pick the url link (http://xyz.com) from the string above "
   ]
  },
  {
   "cell_type": "code",
   "execution_count": null,
   "metadata": {
    "collapsed": true
   },
   "outputs": [],
   "source": []
  },
  {
   "cell_type": "markdown",
   "metadata": {},
   "source": [
    "## Lets get the date from our string"
   ]
  },
  {
   "cell_type": "code",
   "execution_count": 11,
   "metadata": {},
   "outputs": [
    {
     "data": {
      "text/html": [
       "<div>\n",
       "<style scoped>\n",
       "    .dataframe tbody tr th:only-of-type {\n",
       "        vertical-align: middle;\n",
       "    }\n",
       "\n",
       "    .dataframe tbody tr th {\n",
       "        vertical-align: top;\n",
       "    }\n",
       "\n",
       "    .dataframe thead th {\n",
       "        text-align: right;\n",
       "    }\n",
       "</style>\n",
       "<table border=\"1\" class=\"dataframe\">\n",
       "  <thead>\n",
       "    <tr style=\"text-align: right;\">\n",
       "      <th></th>\n",
       "      <th>title</th>\n",
       "      <th>date</th>\n",
       "      <th>url</th>\n",
       "    </tr>\n",
       "  </thead>\n",
       "  <tbody>\n",
       "    <tr>\n",
       "      <th>0</th>\n",
       "      <td>Nur Otan-да екі аудандағы АӘК-тің таратылуында...</td>\n",
       "      <td>22:27 2019-08-17</td>\n",
       "      <td>https://kaz.zakon.kz/news/4981980-nur-otan-da-...</td>\n",
       "    </tr>\n",
       "    <tr>\n",
       "      <th>1</th>\n",
       "      <td>Асқар Мамин Арыс қаласын қалпына келтіру жұмыс...</td>\n",
       "      <td>18:16 2019-08-17</td>\n",
       "      <td>https://kaz.zakon.kz/news/4981971-as-ar-mamin-...</td>\n",
       "    </tr>\n",
       "    <tr>\n",
       "      <th>2</th>\n",
       "      <td>Түркістанда шығыстық үлгідегі автобекет ашылды</td>\n",
       "      <td>15:25 2019-08-17</td>\n",
       "      <td>https://kaz.zakon.kz/news/4981963-t-rk-standa-...</td>\n",
       "    </tr>\n",
       "    <tr>\n",
       "      <th>3</th>\n",
       "      <td>Бүгін арыстықтар 100 мың теңге жәрдемақыны алды</td>\n",
       "      <td>20:21 2019-08-16</td>\n",
       "      <td>https://kaz.zakon.kz/news/4981913-b-g-n-arysty...</td>\n",
       "    </tr>\n",
       "    <tr>\n",
       "      <th>4</th>\n",
       "      <td>АҚШ-тың санкциялары Ресейдің мұнайына деген сұ...</td>\n",
       "      <td>17:54 2019-08-16</td>\n",
       "      <td>https://kaz.zakon.kz/news/4981898-a-sh-ty-sank...</td>\n",
       "    </tr>\n",
       "  </tbody>\n",
       "</table>\n",
       "</div>"
      ],
      "text/plain": [
       "                                               title              date  \\\n",
       "0  Nur Otan-да екі аудандағы АӘК-тің таратылуында...  22:27 2019-08-17   \n",
       "1  Асқар Мамин Арыс қаласын қалпына келтіру жұмыс...  18:16 2019-08-17   \n",
       "2     Түркістанда шығыстық үлгідегі автобекет ашылды  15:25 2019-08-17   \n",
       "3    Бүгін арыстықтар 100 мың теңге жәрдемақыны алды  20:21 2019-08-16   \n",
       "4  АҚШ-тың санкциялары Ресейдің мұнайына деген сұ...  17:54 2019-08-16   \n",
       "\n",
       "                                                 url  \n",
       "0  https://kaz.zakon.kz/news/4981980-nur-otan-da-...  \n",
       "1  https://kaz.zakon.kz/news/4981971-as-ar-mamin-...  \n",
       "2  https://kaz.zakon.kz/news/4981963-t-rk-standa-...  \n",
       "3  https://kaz.zakon.kz/news/4981913-b-g-n-arysty...  \n",
       "4  https://kaz.zakon.kz/news/4981898-a-sh-ty-sank...  "
      ]
     },
     "execution_count": 11,
     "metadata": {},
     "output_type": "execute_result"
    }
   ],
   "source": [
    "df.head()"
   ]
  },
  {
   "cell_type": "code",
   "execution_count": 12,
   "metadata": {},
   "outputs": [
    {
     "data": {
      "text/html": [
       "<div>\n",
       "<style scoped>\n",
       "    .dataframe tbody tr th:only-of-type {\n",
       "        vertical-align: middle;\n",
       "    }\n",
       "\n",
       "    .dataframe tbody tr th {\n",
       "        vertical-align: top;\n",
       "    }\n",
       "\n",
       "    .dataframe thead th {\n",
       "        text-align: right;\n",
       "    }\n",
       "</style>\n",
       "<table border=\"1\" class=\"dataframe\">\n",
       "  <thead>\n",
       "    <tr style=\"text-align: right;\">\n",
       "      <th></th>\n",
       "      <th>title</th>\n",
       "      <th>date</th>\n",
       "      <th>url</th>\n",
       "    </tr>\n",
       "  </thead>\n",
       "  <tbody>\n",
       "    <tr>\n",
       "      <th>130</th>\n",
       "      <td>Тоқаев Сооронбай Жээнбековпен телефон арқылы с...</td>\n",
       "      <td>10:03 2019-08-09</td>\n",
       "      <td>https://kaz.zakon.kz/news/4980848-to-aev-sooro...</td>\n",
       "    </tr>\n",
       "    <tr>\n",
       "      <th>131</th>\n",
       "      <td>Дайын отыр! Атамбаевты неге жығып бермеу керек</td>\n",
       "      <td>09:50 2019-08-09</td>\n",
       "      <td>https://kaz.zakon.kz/news/4980845-dayyn-otyr-a...</td>\n",
       "    </tr>\n",
       "    <tr>\n",
       "      <th>132</th>\n",
       "      <td>Диана кайф. Жалаңаштанған қазақ қызы жұрттың ж...</td>\n",
       "      <td>09:31 2019-08-09</td>\n",
       "      <td>https://kaz.zakon.kz/news/4980839-diana-kayf-z...</td>\n",
       "    </tr>\n",
       "    <tr>\n",
       "      <th>133</th>\n",
       "      <td>Алматыда Toyota адам қағып кетті</td>\n",
       "      <td>09:18 2019-08-09</td>\n",
       "      <td>https://kaz.zakon.kz/news/4980835-almatyda-toy...</td>\n",
       "    </tr>\n",
       "    <tr>\n",
       "      <th>134</th>\n",
       "      <td>Атамбаев өз еркімен берілді</td>\n",
       "      <td>08:59 2019-08-09</td>\n",
       "      <td>https://kaz.zakon.kz/news/4980831-atambaev-z-e...</td>\n",
       "    </tr>\n",
       "  </tbody>\n",
       "</table>\n",
       "</div>"
      ],
      "text/plain": [
       "                                                 title              date  \\\n",
       "130  Тоқаев Сооронбай Жээнбековпен телефон арқылы с...  10:03 2019-08-09   \n",
       "131     Дайын отыр! Атамбаевты неге жығып бермеу керек  09:50 2019-08-09   \n",
       "132  Диана кайф. Жалаңаштанған қазақ қызы жұрттың ж...  09:31 2019-08-09   \n",
       "133                   Алматыда Toyota адам қағып кетті  09:18 2019-08-09   \n",
       "134                        Атамбаев өз еркімен берілді  08:59 2019-08-09   \n",
       "\n",
       "                                                   url  \n",
       "130  https://kaz.zakon.kz/news/4980848-to-aev-sooro...  \n",
       "131  https://kaz.zakon.kz/news/4980845-dayyn-otyr-a...  \n",
       "132  https://kaz.zakon.kz/news/4980839-diana-kayf-z...  \n",
       "133  https://kaz.zakon.kz/news/4980835-almatyda-toy...  \n",
       "134  https://kaz.zakon.kz/news/4980831-atambaev-z-e...  "
      ]
     },
     "execution_count": 12,
     "metadata": {},
     "output_type": "execute_result"
    }
   ],
   "source": [
    "df.tail()"
   ]
  },
  {
   "cell_type": "code",
   "execution_count": 13,
   "metadata": {},
   "outputs": [],
   "source": [
    "date_string = df['date'][0]"
   ]
  },
  {
   "cell_type": "code",
   "execution_count": 14,
   "metadata": {},
   "outputs": [
    {
     "name": "stdout",
     "output_type": "stream",
     "text": [
      "22:27 2019-08-17\n"
     ]
    }
   ],
   "source": [
    "print(date_string)"
   ]
  },
  {
   "cell_type": "code",
   "execution_count": 15,
   "metadata": {},
   "outputs": [],
   "source": [
    "re.search('hours',date_string)"
   ]
  },
  {
   "cell_type": "code",
   "execution_count": 16,
   "metadata": {},
   "outputs": [],
   "source": [
    "date_string = df['date'][50]"
   ]
  },
  {
   "cell_type": "code",
   "execution_count": 53,
   "metadata": {},
   "outputs": [
    {
     "name": "stdout",
     "output_type": "stream",
     "text": [
      "4 points by lefish 7 days ago  | discuss\n"
     ]
    }
   ],
   "source": [
    "print(date_string)"
   ]
  },
  {
   "cell_type": "code",
   "execution_count": 54,
   "metadata": {
    "collapsed": true
   },
   "outputs": [],
   "source": [
    "# If hours is not there, we don't get any match\n",
    "re.search('hours',date_string)"
   ]
  },
  {
   "cell_type": "code",
   "execution_count": 55,
   "metadata": {},
   "outputs": [
    {
     "data": {
      "text/plain": [
       "<_sre.SRE_Match object; span=(19, 24), match='7 day'>"
      ]
     },
     "execution_count": 55,
     "metadata": {},
     "output_type": "execute_result"
    }
   ],
   "source": [
    "# Let us match the digit preceding the day text\n",
    "day_search = re.search('\\d+ day',date_string)\n",
    "day_search"
   ]
  },
  {
   "cell_type": "code",
   "execution_count": 56,
   "metadata": {},
   "outputs": [
    {
     "data": {
      "text/plain": [
       "'7 day'"
      ]
     },
     "execution_count": 56,
     "metadata": {},
     "output_type": "execute_result"
    }
   ],
   "source": [
    "days_string = day_search.group(0)\n",
    "days_string"
   ]
  },
  {
   "cell_type": "code",
   "execution_count": 57,
   "metadata": {},
   "outputs": [
    {
     "data": {
      "text/plain": [
       "'7'"
      ]
     },
     "execution_count": 57,
     "metadata": {},
     "output_type": "execute_result"
    }
   ],
   "source": [
    "days = days_string.split(' ')[0] \n",
    "days"
   ]
  },
  {
   "cell_type": "markdown",
   "metadata": {},
   "source": []
  },
  {
   "cell_type": "code",
   "execution_count": 58,
   "metadata": {
    "collapsed": true
   },
   "outputs": [],
   "source": [
    "def return_reg_ex_days(row):\n",
    "    days = ''\n",
    "    if re.search('hours',row['date']) is not None:\n",
    "        # print('hours',row['date'])\n",
    "        days = 1\n",
    "    else:\n",
    "        day_search = re.search('\\d+ day',row['date'])\n",
    "        # print('day',day_search.group(0))\n",
    "        days = day_search.group(0).split(' ')[0]    \n",
    "    \n",
    "    #print(row,days)\n",
    "    return days\n",
    "        "
   ]
  },
  {
   "cell_type": "code",
   "execution_count": 59,
   "metadata": {},
   "outputs": [],
   "source": [
    "# Now we apply this function to each of the row in the dataframe\n",
    "df['days'] = df.apply(return_reg_ex_days,axis=1)"
   ]
  },
  {
   "cell_type": "code",
   "execution_count": 60,
   "metadata": {},
   "outputs": [
    {
     "data": {
      "text/html": [
       "<div>\n",
       "<table border=\"1\" class=\"dataframe\">\n",
       "  <thead>\n",
       "    <tr style=\"text-align: right;\">\n",
       "      <th></th>\n",
       "      <th>title</th>\n",
       "      <th>date</th>\n",
       "      <th>days</th>\n",
       "    </tr>\n",
       "  </thead>\n",
       "  <tbody>\n",
       "    <tr>\n",
       "      <th>0</th>\n",
       "      <td>An Exploration of R, Yelp, and the Search for ...</td>\n",
       "      <td>5 points by Rogerh91 6 hours ago  | discuss</td>\n",
       "      <td>1</td>\n",
       "    </tr>\n",
       "    <tr>\n",
       "      <th>1</th>\n",
       "      <td>Deep Advances in Generative Modeling</td>\n",
       "      <td>7 points by gwulfs 15 hours ago  | 1 comment</td>\n",
       "      <td>1</td>\n",
       "    </tr>\n",
       "    <tr>\n",
       "      <th>2</th>\n",
       "      <td>Spark Pipelines: Elegant Yet Powerful</td>\n",
       "      <td>3 points by aouyang1 9 hours ago  | discuss</td>\n",
       "      <td>1</td>\n",
       "    </tr>\n",
       "    <tr>\n",
       "      <th>3</th>\n",
       "      <td>Shit VCs Say</td>\n",
       "      <td>3 points by Argentum01 10 hours ago  | discuss</td>\n",
       "      <td>1</td>\n",
       "    </tr>\n",
       "    <tr>\n",
       "      <th>4</th>\n",
       "      <td>Python, Machine Learning, and Language Wars</td>\n",
       "      <td>4 points by pmigdal 17 hours ago  | discuss</td>\n",
       "      <td>1</td>\n",
       "    </tr>\n",
       "  </tbody>\n",
       "</table>\n",
       "</div>"
      ],
      "text/plain": [
       "                                               title  \\\n",
       "0  An Exploration of R, Yelp, and the Search for ...   \n",
       "1               Deep Advances in Generative Modeling   \n",
       "2              Spark Pipelines: Elegant Yet Powerful   \n",
       "3                                       Shit VCs Say   \n",
       "4        Python, Machine Learning, and Language Wars   \n",
       "\n",
       "                                             date days  \n",
       "0     5 points by Rogerh91 6 hours ago  | discuss    1  \n",
       "1    7 points by gwulfs 15 hours ago  | 1 comment    1  \n",
       "2     3 points by aouyang1 9 hours ago  | discuss    1  \n",
       "3  3 points by Argentum01 10 hours ago  | discuss    1  \n",
       "4     4 points by pmigdal 17 hours ago  | discuss    1  "
      ]
     },
     "execution_count": 60,
     "metadata": {},
     "output_type": "execute_result"
    }
   ],
   "source": [
    "df.head()"
   ]
  },
  {
   "cell_type": "code",
   "execution_count": 61,
   "metadata": {},
   "outputs": [
    {
     "data": {
      "text/html": [
       "<div>\n",
       "<table border=\"1\" class=\"dataframe\">\n",
       "  <thead>\n",
       "    <tr style=\"text-align: right;\">\n",
       "      <th></th>\n",
       "      <th>title</th>\n",
       "      <th>date</th>\n",
       "      <th>days</th>\n",
       "    </tr>\n",
       "  </thead>\n",
       "  <tbody>\n",
       "    <tr>\n",
       "      <th>175</th>\n",
       "      <td>Getting Started with Statistics for Data Science</td>\n",
       "      <td>3 points by nickhould 35 days ago  | discuss</td>\n",
       "      <td>35</td>\n",
       "    </tr>\n",
       "    <tr>\n",
       "      <th>176</th>\n",
       "      <td>Rodeo 1.3 - Tab-completion for docstrings</td>\n",
       "      <td>3 points by glamp 35 days ago  | discuss</td>\n",
       "      <td>35</td>\n",
       "    </tr>\n",
       "    <tr>\n",
       "      <th>177</th>\n",
       "      <td>Teaching D3.js - links</td>\n",
       "      <td>3 points by pmigdal 35 days ago  | discuss</td>\n",
       "      <td>35</td>\n",
       "    </tr>\n",
       "    <tr>\n",
       "      <th>178</th>\n",
       "      <td>Parallel scikit-learn on YARN</td>\n",
       "      <td>5 points by stijntonk 39 days ago  | discuss</td>\n",
       "      <td>39</td>\n",
       "    </tr>\n",
       "    <tr>\n",
       "      <th>179</th>\n",
       "      <td>Meetup: Free Live Webinar on Prescriptive Anal...</td>\n",
       "      <td>2 points by ann928 32 days ago  | discuss</td>\n",
       "      <td>32</td>\n",
       "    </tr>\n",
       "  </tbody>\n",
       "</table>\n",
       "</div>"
      ],
      "text/plain": [
       "                                                 title  \\\n",
       "175   Getting Started with Statistics for Data Science   \n",
       "176          Rodeo 1.3 - Tab-completion for docstrings   \n",
       "177                             Teaching D3.js - links   \n",
       "178                      Parallel scikit-learn on YARN   \n",
       "179  Meetup: Free Live Webinar on Prescriptive Anal...   \n",
       "\n",
       "                                             date days  \n",
       "175  3 points by nickhould 35 days ago  | discuss   35  \n",
       "176      3 points by glamp 35 days ago  | discuss   35  \n",
       "177    3 points by pmigdal 35 days ago  | discuss   35  \n",
       "178  5 points by stijntonk 39 days ago  | discuss   39  \n",
       "179     2 points by ann928 32 days ago  | discuss   32  "
      ]
     },
     "execution_count": 61,
     "metadata": {},
     "output_type": "execute_result"
    }
   ],
   "source": [
    "df.tail()"
   ]
  },
  {
   "cell_type": "code",
   "execution_count": 62,
   "metadata": {
    "collapsed": true
   },
   "outputs": [],
   "source": [
    "# Let us save to a dataframe\n",
    "df.to_csv('data_tau_days.csv', index=False)"
   ]
  }
 ],
 "metadata": {
  "kernelspec": {
   "display_name": "Python 3",
   "language": "python",
   "name": "python3"
  },
  "language_info": {
   "codemirror_mode": {
    "name": "ipython",
    "version": 3
   },
   "file_extension": ".py",
   "mimetype": "text/x-python",
   "name": "python",
   "nbconvert_exporter": "python",
   "pygments_lexer": "ipython3",
   "version": "3.7.3"
  }
 },
 "nbformat": 4,
 "nbformat_minor": 1
}
